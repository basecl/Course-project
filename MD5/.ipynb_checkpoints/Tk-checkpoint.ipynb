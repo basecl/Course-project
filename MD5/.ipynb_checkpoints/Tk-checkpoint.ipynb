{
 "cells": [
  {
   "cell_type": "code",
   "execution_count": 8,
   "id": "79a5fc51-9f28-4d42-9cd1-4deb551f7d16",
   "metadata": {},
   "outputs": [],
   "source": [
    "%run MD5.ipynb"
   ]
  },
  {
   "cell_type": "code",
   "execution_count": 9,
   "id": "e9b4b874-551a-4672-b0b0-06e16af62940",
   "metadata": {},
   "outputs": [],
   "source": [
    "import numpy as np\n",
    "import tkinter as tk"
   ]
  },
  {
   "cell_type": "markdown",
   "id": "e2c00947-a594-4d1e-bbf0-c10ef231eb01",
   "metadata": {},
   "source": [
    "## Tkinter "
   ]
  },
  {
   "cell_type": "code",
   "execution_count": 10,
   "id": "d7a4b6b8-1f42-4f5e-8592-3c548f8293f4",
   "metadata": {},
   "outputs": [],
   "source": [
    "def md5_file(file_path):\n",
    "    with open(file_path, 'rb') as file:\n",
    "        state = MD5State()\n",
    "        state.process(file.read())\n",
    "        state.finalize()\n",
    "        return state.hex_digest()"
   ]
  },
  {
   "cell_type": "code",
   "execution_count": 11,
   "id": "e6e27878-cd69-4090-9487-026d1a82960d",
   "metadata": {},
   "outputs": [],
   "source": [
    "def calculate_hash():\n",
    "    file_path = file_path_entry.get()\n",
    "    try:\n",
    "        hash_result = md5_file(file_path + \".txt\")\n",
    "        hash_entry.delete(0, tk.END)\n",
    "        hash_entry.insert(tk.END, hash_result)\n",
    "    except FileNotFoundError:\n",
    "        hash_entry.delete(0, tk.END)\n",
    "        hash_entry.insert(tk.END, \"Файл не найден\")"
   ]
  },
  {
   "cell_type": "code",
   "execution_count": 12,
   "id": "cb8b0ef3-e365-48aa-99c3-160435720ea7",
   "metadata": {},
   "outputs": [],
   "source": [
    "def change_file_content():\n",
    "    file_path = file_path_entry.get()\n",
    "    new_content = content_entry.get()\n",
    "    try:\n",
    "        with open(file_path + \".txt\", 'w') as file:\n",
    "            file.write(new_content)\n",
    "    except FileNotFoundError:\n",
    "        content_entry.delete(0, tk.END)\n",
    "        content_entry.insert(tk.END, \"Файл не найден\")"
   ]
  },
  {
   "cell_type": "code",
   "execution_count": null,
   "id": "83361de1-5613-421d-a079-53ca7d890d64",
   "metadata": {},
   "outputs": [],
   "source": [
    "root = tk.Tk()\n",
    "root.title(\"Tkinter Window\")\n",
    "root.geometry(\"250x200\")\n",
    "\n",
    "file_path_entry = tk.Entry(root, width=100, bd=2)\n",
    "file_path_entry.pack()\n",
    "\n",
    "hash_button = tk.Button(root, text=\"Calculate Hash\", command=calculate_hash)\n",
    "hash_button.pack()\n",
    "\n",
    "hash_entry = tk.Entry(root, width=100, bd=2)\n",
    "hash_entry.pack()\n",
    "\n",
    "content_entry = tk.Entry(root, width=100, bd=2)\n",
    "content_entry.pack()\n",
    "\n",
    "content_button = tk.Button(root, text=\"Change File Content\", command=change_file_content)\n",
    "content_button.pack()\n",
    "\n",
    "root.mainloop()"
   ]
  },
  {
   "cell_type": "code",
   "execution_count": null,
   "id": "44eba52c-958c-425e-8f4f-483ce59f2f2f",
   "metadata": {},
   "outputs": [],
   "source": []
  }
 ],
 "metadata": {
  "kernelspec": {
   "display_name": "Python 3 (ipykernel)",
   "language": "python",
   "name": "python3"
  },
  "language_info": {
   "codemirror_mode": {
    "name": "ipython",
    "version": 3
   },
   "file_extension": ".py",
   "mimetype": "text/x-python",
   "name": "python",
   "nbconvert_exporter": "python",
   "pygments_lexer": "ipython3",
   "version": "3.10.13"
  }
 },
 "nbformat": 4,
 "nbformat_minor": 5
}
