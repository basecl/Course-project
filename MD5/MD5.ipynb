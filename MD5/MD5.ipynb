{
 "cells": [
  {
   "cell_type": "code",
   "execution_count": 1,
   "id": "a4f1fb73-3f9d-414d-8de3-38d79111c9cb",
   "metadata": {},
   "outputs": [],
   "source": [
    "import numpy as np"
   ]
  },
  {
   "cell_type": "markdown",
   "id": "f93796eb-9e59-49f3-92dc-e6a754c60f18",
   "metadata": {},
   "source": [
    "## MD5"
   ]
  },
  {
   "cell_type": "code",
   "execution_count": 2,
   "id": "76b70f18-f598-41ab-9c49-bf6399c96307",
   "metadata": {},
   "outputs": [],
   "source": [
    "shift = [7, 12, 17, 22, 7, 12, 17, 22, 7, 12, 17, 22, 7, 12, 17, 22,\n",
    "         5, 9, 14, 20, 5, 9, 14, 20, 5, 9, 14, 20, 5, 9, 14, 20,\n",
    "         4, 11, 16, 23, 4, 11, 16, 23, 4, 11, 16, 23, 4, 11, 16, 23,\n",
    "         6, 10, 15, 21, 6, 10, 15, 21, 6, 10, 15, 21, 6, 10, 15, 21]\n",
    "\n",
    "sines = np.abs(np.sin(np.arange(64) + 1))\n",
    "sine_randomness = [int(x) for x in np.floor(2 ** 32 * sines)]\n",
    "\n",
    "md5_block_size = 64\n",
    "md5_digest_size = 16\n"
   ]
  },
  {
   "cell_type": "code",
   "execution_count": 3,
   "id": "7e0fa76d-3693-4882-a812-0e89d0e013cd",
   "metadata": {},
   "outputs": [],
   "source": [
    "def left_rotate(x, y):\n",
    "    return ((x << (y & 31)) | ((x & 0xffffffff) >> (32 - (y & 31)))) & 0xffffffff"
   ]
  },
  {
   "cell_type": "code",
   "execution_count": 4,
   "id": "de238928-9e25-40d3-8c18-5d2e5740c56a",
   "metadata": {},
   "outputs": [],
   "source": [
    "def bit_not(x):\n",
    "    return 4294967295 - x"
   ]
  },
  {
   "cell_type": "code",
   "execution_count": 5,
   "id": "c71cf00f-b767-4e3e-8179-2eccc193f4c0",
   "metadata": {},
   "outputs": [],
   "source": [
    "def F(b, c, d):\n",
    "    return d ^ (b & (c ^ d))"
   ]
  },
  {
   "cell_type": "code",
   "execution_count": 6,
   "id": "db948085-77d5-4458-9191-683a9d3295ef",
   "metadata": {},
   "outputs": [],
   "source": [
    "def G(b, c, d):\n",
    "    return c ^ (d & (b ^ c))"
   ]
  },
  {
   "cell_type": "code",
   "execution_count": 7,
   "id": "0fcf7d7e-91b5-455e-8c44-38f15148eb78",
   "metadata": {},
   "outputs": [],
   "source": [
    "def H(b, c, d):\n",
    "    return b ^ c ^ d"
   ]
  },
  {
   "cell_type": "code",
   "execution_count": 8,
   "id": "926a21b2-7ba5-4b8b-8c6d-be4f898bf273",
   "metadata": {},
   "outputs": [],
   "source": [
    "def I(b, c, d):\n",
    "    return c ^ (b | bit_not(d))"
   ]
  },
  {
   "cell_type": "code",
   "execution_count": 9,
   "id": "c7544373-56f8-40c2-928e-1b8033ddb25a",
   "metadata": {},
   "outputs": [],
   "source": [
    "mixer_for_step = [F for _ in range(16)] + [G for _ in range(16)] + [H for _ in range(16)] + [I for _ in range(16)]\n",
    "round_1_perm = [i for i in range(16)]\n",
    "round_2_perm = [(5 * i + 1) % 16 for i in range(16)]\n",
    "round_3_perm = [(3 * i + 5) % 16 for i in range(16)]\n",
    "round_4_perm = [(7 * i) % 16 for i in range(16)]\n",
    "msg_idx_for_step = round_1_perm + round_2_perm + round_3_perm + round_4_perm"
   ]
  },
  {
   "cell_type": "code",
   "execution_count": 10,
   "id": "780c20fb-1152-4088-a062-bf767241dd64",
   "metadata": {},
   "outputs": [],
   "source": [
    "class MD5State:\n",
    "    def __init__(self):\n",
    "        self.length = 0\n",
    "        self.state = (0x67452301, 0xefcdab89, 0x98badcfe, 0x10325476)\n",
    "        self.n_filled_bytes = 0\n",
    "        self.buf = bytearray(md5_block_size)\n",
    "\n",
    "    def digest(self):\n",
    "        return b''.join(x.to_bytes(length=4, byteorder='little') for x in self.state)\n",
    "\n",
    "    def hex_digest(self):\n",
    "        return self.digest().hex()\n",
    "\n",
    "    def process(self, stream):\n",
    "        assert self.n_filled_bytes < len(self.buf)\n",
    "\n",
    "        view = memoryview(self.buf)\n",
    "        idx = 0\n",
    "        while idx < len(stream):\n",
    "            remaining_bytes = len(self.buf) - self.n_filled_bytes\n",
    "            bytes_read = min(remaining_bytes, len(stream) - idx)\n",
    "            view[self.n_filled_bytes:self.n_filled_bytes + bytes_read] = stream[idx:idx + bytes_read]\n",
    "\n",
    "            self.n_filled_bytes += bytes_read\n",
    "            idx += bytes_read\n",
    "\n",
    "            if self.n_filled_bytes == len(self.buf):\n",
    "                self.compress(self.buf)\n",
    "                self.length += md5_block_size\n",
    "                self.n_filled_bytes = 0\n",
    "\n",
    "    def finalize(self):\n",
    "        assert self.n_filled_bytes < md5_block_size\n",
    "\n",
    "        self.length += self.n_filled_bytes\n",
    "        self.buf[self.n_filled_bytes] = 0b10000000\n",
    "        self.n_filled_bytes += 1\n",
    "\n",
    "        n_bytes_needed_for_len = 8\n",
    "\n",
    "        if self.n_filled_bytes + n_bytes_needed_for_len > md5_block_size:\n",
    "            self.buf[self.n_filled_bytes:] = bytes(md5_block_size - self.n_filled_bytes)\n",
    "            self.compress(self.buf)\n",
    "            self.n_filled_bytes = 0\n",
    "\n",
    "        self.buf[self.n_filled_bytes:] = bytes(md5_block_size - self.n_filled_bytes)\n",
    "        bit_len_64 = (self.length * 8) % (2 ** 64)\n",
    "        self.buf[-n_bytes_needed_for_len:] = bit_len_64.to_bytes(length=n_bytes_needed_for_len,\n",
    "                                                                 byteorder='little')\n",
    "        self.compress(self.buf)\n",
    "\n",
    "    def compress(self, msg_chunk):\n",
    "        assert len(msg_chunk) == md5_block_size\n",
    "        msg_ints = [int.from_bytes(msg_chunk[i:i + 4], byteorder='little') for i in range(0, md5_block_size, 4)]\n",
    "        assert len(msg_ints) == 16\n",
    "\n",
    "        a, b, c, d = self.state\n",
    "\n",
    "        for i in range(md5_block_size):\n",
    "            bit_mixer = mixer_for_step[i]\n",
    "            msg_idx = msg_idx_for_step[i]\n",
    "            a = (a + bit_mixer(b, c, d) + msg_ints[msg_idx] + sine_randomness[i]) % (2 ** 32)\n",
    "            a = left_rotate(a, shift[i])\n",
    "            a = (a + b) % (2 ** 32)\n",
    "            a, b, c, d = d, a, b, c\n",
    "\n",
    "        self.state = (\n",
    "            (self.state[0] + a) % (2 ** 32),\n",
    "            (self.state[1] + b) % (2 ** 32),\n",
    "            (self.state[2] + c) % (2 ** 32),\n",
    "            (self.state[3] + d) % (2 ** 32),\n",
    "        )"
   ]
  },
  {
   "cell_type": "code",
   "execution_count": null,
   "id": "29a113f1-ea3c-4a9d-a6a8-055d5d9b0700",
   "metadata": {},
   "outputs": [],
   "source": []
  },
  {
   "cell_type": "code",
   "execution_count": null,
   "id": "347e4f5a-200f-4c3c-b0ae-aae17c870b80",
   "metadata": {},
   "outputs": [],
   "source": []
  },
  {
   "cell_type": "code",
   "execution_count": null,
   "id": "0016d70a-d3a7-45db-81f8-819daa72de10",
   "metadata": {},
   "outputs": [],
   "source": []
  }
 ],
 "metadata": {
  "kernelspec": {
   "display_name": "Python 3 (ipykernel)",
   "language": "python",
   "name": "python3"
  },
  "language_info": {
   "codemirror_mode": {
    "name": "ipython",
    "version": 3
   },
   "file_extension": ".py",
   "mimetype": "text/x-python",
   "name": "python",
   "nbconvert_exporter": "python",
   "pygments_lexer": "ipython3",
   "version": "3.10.13"
  }
 },
 "nbformat": 4,
 "nbformat_minor": 5
}
